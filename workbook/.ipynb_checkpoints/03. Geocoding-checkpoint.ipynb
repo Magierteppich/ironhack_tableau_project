{
 "cells": [
  {
   "cell_type": "markdown",
   "metadata": {},
   "source": [
    "# 3. Geocoding\n",
    "\n",
    "## Trying to use the openCage API to translate Adress into Geodates."
   ]
  },
  {
   "cell_type": "code",
   "execution_count": null,
   "metadata": {},
   "outputs": [],
   "source": [
    "import pandas as pd\n",
    "import datetime\n",
    "import requests\n",
    "import json\n",
    "import geocoder"
   ]
  },
  {
   "cell_type": "code",
   "execution_count": null,
   "metadata": {},
   "outputs": [],
   "source": [
    "df = pd.read_pickle(\"/Users/Tianwang/ironhack/git/03_project_ironhack_tableau/data/baton_rouge_animal_control_incidents_clean_update.pkl\")"
   ]
  },
  {
   "cell_type": "code",
   "execution_count": 3,
   "metadata": {},
   "outputs": [
    {
     "data": {
      "text/plain": [
       "52731"
      ]
     },
     "execution_count": 3,
     "metadata": {},
     "output_type": "execute_result"
    }
   ],
   "source": [
    "len(df)"
   ]
  },
  {
   "cell_type": "code",
   "execution_count": 8,
   "metadata": {},
   "outputs": [],
   "source": [
    "location = pd.DataFrame(df[\"clean_adress\"])"
   ]
  },
  {
   "cell_type": "code",
   "execution_count": 9,
   "metadata": {},
   "outputs": [
    {
     "data": {
      "text/html": [
       "<div>\n",
       "<style scoped>\n",
       "    .dataframe tbody tr th:only-of-type {\n",
       "        vertical-align: middle;\n",
       "    }\n",
       "\n",
       "    .dataframe tbody tr th {\n",
       "        vertical-align: top;\n",
       "    }\n",
       "\n",
       "    .dataframe thead th {\n",
       "        text-align: right;\n",
       "    }\n",
       "</style>\n",
       "<table border=\"1\" class=\"dataframe\">\n",
       "  <thead>\n",
       "    <tr style=\"text-align: right;\">\n",
       "      <th></th>\n",
       "      <th>clean_adress</th>\n",
       "    </tr>\n",
       "  </thead>\n",
       "  <tbody>\n",
       "    <tr>\n",
       "      <th>0</th>\n",
       "      <td>3366 SYCAMORE, BATON ROUGE, 70805</td>\n",
       "    </tr>\n",
       "    <tr>\n",
       "      <th>1</th>\n",
       "      <td>2582 WOODLAND RIDGE, BATON ROUGE, 70816</td>\n",
       "    </tr>\n",
       "    <tr>\n",
       "      <th>2</th>\n",
       "      <td>4463 MAIN, ZACHARY, 70791</td>\n",
       "    </tr>\n",
       "    <tr>\n",
       "      <th>3</th>\n",
       "      <td>2100 ERIE, BATON ROUGE, 70805</td>\n",
       "    </tr>\n",
       "    <tr>\n",
       "      <th>4</th>\n",
       "      <td>299 VAN BUREN, BATON ROUGE, 70714</td>\n",
       "    </tr>\n",
       "    <tr>\n",
       "      <th>...</th>\n",
       "      <td>...</td>\n",
       "    </tr>\n",
       "    <tr>\n",
       "      <th>73298</th>\n",
       "      <td>1700 JOHN MARKS, BAKER, 70714</td>\n",
       "    </tr>\n",
       "    <tr>\n",
       "      <th>73299</th>\n",
       "      <td>1520 UTAH, BATON ROUGE, 70802</td>\n",
       "    </tr>\n",
       "    <tr>\n",
       "      <th>73300</th>\n",
       "      <td>1520 UTAH, BATON ROUGE, 70802</td>\n",
       "    </tr>\n",
       "    <tr>\n",
       "      <th>73301</th>\n",
       "      <td>2822 LULA, BATON ROUGE, 70802</td>\n",
       "    </tr>\n",
       "    <tr>\n",
       "      <th>73302</th>\n",
       "      <td>5228 PRESCOTT, BATON ROUGE, 70805</td>\n",
       "    </tr>\n",
       "  </tbody>\n",
       "</table>\n",
       "<p>52731 rows × 1 columns</p>\n",
       "</div>"
      ],
      "text/plain": [
       "                                  clean_adress\n",
       "0            3366 SYCAMORE, BATON ROUGE, 70805\n",
       "1      2582 WOODLAND RIDGE, BATON ROUGE, 70816\n",
       "2                    4463 MAIN, ZACHARY, 70791\n",
       "3                2100 ERIE, BATON ROUGE, 70805\n",
       "4            299 VAN BUREN, BATON ROUGE, 70714\n",
       "...                                        ...\n",
       "73298            1700 JOHN MARKS, BAKER, 70714\n",
       "73299            1520 UTAH, BATON ROUGE, 70802\n",
       "73300            1520 UTAH, BATON ROUGE, 70802\n",
       "73301            2822 LULA, BATON ROUGE, 70802\n",
       "73302        5228 PRESCOTT, BATON ROUGE, 70805\n",
       "\n",
       "[52731 rows x 1 columns]"
      ]
     },
     "execution_count": 9,
     "metadata": {},
     "output_type": "execute_result"
    }
   ],
   "source": [
    "location"
   ]
  },
  {
   "cell_type": "code",
   "execution_count": 10,
   "metadata": {},
   "outputs": [],
   "source": [
    "adress = location.drop_duplicates(subset=\"clean_adress\", inplace=False)"
   ]
  },
  {
   "cell_type": "code",
   "execution_count": 24,
   "metadata": {},
   "outputs": [],
   "source": [
    "adress_list = list(adress.loc[adress[\"clean_adress\"].notna()][\"clean_adress\"])"
   ]
  },
  {
   "cell_type": "code",
   "execution_count": 26,
   "metadata": {},
   "outputs": [
    {
     "data": {
      "text/plain": [
       "30894"
      ]
     },
     "execution_count": 26,
     "metadata": {},
     "output_type": "execute_result"
    }
   ],
   "source": [
    "len(adress_list)"
   ]
  },
  {
   "cell_type": "markdown",
   "metadata": {},
   "source": [
    "### Test Geocoder to fetch the Geo coordinates using OpenCage API."
   ]
  },
  {
   "cell_type": "code",
   "execution_count": null,
   "metadata": {},
   "outputs": [],
   "source": [
    "url = \"https://api.opencagedata.com/geocode/v1/json?parameters\""
   ]
  },
  {
   "cell_type": "code",
   "execution_count": null,
   "metadata": {},
   "outputs": [],
   "source": [
    "g = geocoder.opencage(\"3671 N FOSTER, BATON ROUGE, 70805\", key=\"x\")"
   ]
  },
  {
   "cell_type": "code",
   "execution_count": null,
   "metadata": {},
   "outputs": [],
   "source": [
    "type(g.json)"
   ]
  },
  {
   "cell_type": "markdown",
   "metadata": {},
   "source": [
    "#### Testing with one adress"
   ]
  },
  {
   "cell_type": "code",
   "execution_count": null,
   "metadata": {},
   "outputs": [],
   "source": [
    "g.json"
   ]
  },
  {
   "cell_type": "code",
   "execution_count": null,
   "metadata": {},
   "outputs": [],
   "source": [
    "result = g.json.keys()"
   ]
  },
  {
   "cell_type": "code",
   "execution_count": null,
   "metadata": {},
   "outputs": [],
   "source": [
    "key = list(result)[0]"
   ]
  },
  {
   "cell_type": "code",
   "execution_count": null,
   "metadata": {},
   "outputs": [],
   "source": [
    "g.json[key]"
   ]
  },
  {
   "cell_type": "markdown",
   "metadata": {},
   "source": [
    "#### Test on a bigger sample"
   ]
  },
  {
   "cell_type": "code",
   "execution_count": 30,
   "metadata": {},
   "outputs": [],
   "source": [
    "sample = adress_list[0:20]"
   ]
  },
  {
   "cell_type": "code",
   "execution_count": 31,
   "metadata": {},
   "outputs": [
    {
     "data": {
      "text/plain": [
       "['3366 SYCAMORE, BATON ROUGE, 70805',\n",
       " '2582 WOODLAND RIDGE, BATON ROUGE, 70816',\n",
       " '4463 MAIN, ZACHARY, 70791',\n",
       " '2100 ERIE, BATON ROUGE, 70805',\n",
       " '299 VAN BUREN, BATON ROUGE, 70714',\n",
       " '2900 WOODBROOK, BATON ROUGE, 70815',\n",
       " '24873 EUBANKS, BATON ROUGE, 70722',\n",
       " '6621 MARIONETTE, BATON ROUGE, 70811',\n",
       " '5420 OSBOURNE, BATON ROUGE, 70805',\n",
       " '1331 SHERWOOD FOREST, BATON ROUGE, 70815',\n",
       " '2680 PROGRESS, BATON ROUGE, 70807',\n",
       " '211 CRESTVIEW, BATON ROUGE, 70807',\n",
       " '8417 PERKINS, BATON ROUGE, 7081',\n",
       " '14347 BYWOOD, BATON ROUGE, 70819',\n",
       " \"2171 O'NEAL, PARISH, 70816\",\n",
       " '15913 CHICKAMAUSA, BATON ROUGE, 70817',\n",
       " '3008 MAIN, BATON ROUGE, 70802',\n",
       " '13708 STONEGATE, BATON ROUGE, nan',\n",
       " '19845 DEER CREEK, PARISH, 70791',\n",
       " '552 FLANNERY, UNKNOWN, 70815']"
      ]
     },
     "execution_count": 31,
     "metadata": {},
     "output_type": "execute_result"
    }
   ],
   "source": [
    "sample"
   ]
  },
  {
   "cell_type": "code",
   "execution_count": 32,
   "metadata": {},
   "outputs": [],
   "source": [
    "geo_list_test = []\n",
    "for adress in sample:\n",
    "    g = geocoder.opencage(adress, key=\"x\")\n",
    "    result = g.json.keys()\n",
    "    key = list(result)[0]\n",
    "    geo = g.json[key]\n",
    "    geo_list_test.append(geo)"
   ]
  },
  {
   "cell_type": "code",
   "execution_count": 33,
   "metadata": {},
   "outputs": [
    {
     "data": {
      "text/plain": [
       "[{'lat': \"30° 29' 40.42716'' N\", 'lng': \"91° 9' 21.98016'' W\"},\n",
       " {'lat': \"30° 25' 34.68792'' N\", 'lng': \"91° 2' 19.37184'' W\"},\n",
       " {'lat': \"30° 38' 54.66876'' N\", 'lng': \"91° 9' 23.38596'' W\"},\n",
       " {'lat': \"30° 28' 33.38040'' N\", 'lng': \"91° 10' 6.17880'' W\"},\n",
       " {'lat': \"30° 34' 53.04000'' N\", 'lng': \"91° 8' 34.44000'' W\"},\n",
       " {'lat': \"30° 25' 59.67120'' N\", 'lng': \"91° 1' 36.49080'' W\"},\n",
       " {'lat': \"30° 42' 52.64964'' N\", 'lng': \"90° 55' 33.98448'' W\"},\n",
       " {'lat': \"30° 31' 46.64748'' N\", 'lng': \"91° 7' 31.54188'' W\"},\n",
       " {'lat': \"30° 29' 9.60000'' N\", 'lng': \"91° 8' 53.16000'' W\"},\n",
       " {'lat': \"30° 26' 55.68576'' N\", 'lng': \"91° 2' 43.37304'' W\"},\n",
       " {'lat': \"30° 27' 16.68564'' N\", 'lng': \"91° 9' 30.38400'' W\"},\n",
       " {'lat': \"30° 32' 35.58084'' N\", 'lng': \"91° 11' 59.22312'' W\"},\n",
       " {'lat': \"30° 23' 18.85344'' N\", 'lng': \"91° 6' 17.10684'' W\"},\n",
       " {'lat': \"30° 28' 16.39740'' N\", 'lng': \"91° 1' 36.56856'' W\"},\n",
       " {'lat': \"32° 35' 32.66880'' N\", 'lng': \"91° 58' 4.19520'' W\"},\n",
       " {'lat': \"30° 23' 25.44000'' N\", 'lng': \"91° 0' 7.56000'' W\"},\n",
       " {'lat': \"30° 26' 45.45456'' N\", 'lng': \"91° 11' 14.56800'' W\"},\n",
       " {'lat': \"18° 47' 1.60800'' N\", 'lng': \"100° 46' 44.36400'' E\"},\n",
       " {'lat': \"32° 35' 6.79704'' N\", 'lng': \"92° 53' 52.76040'' W\"},\n",
       " {'lat': \"30° 27' 20.88000'' N\", 'lng': \"91° 3' 34.56000'' W\"},\n",
       " {'lat': \"30° 24' 32.04000'' N\", 'lng': \"91° 5' 3.12000'' W\"},\n",
       " {'lat': \"30° 25' 31.55484'' N\", 'lng': \"91° 10' 7.43052'' W\"},\n",
       " {'lat': \"30° 33' 10.18260'' N\", 'lng': \"91° 10' 12.31284'' W\"},\n",
       " {'lat': \"30° 20' 41.08164'' N\", 'lng': \"91° 6' 19.02996'' W\"},\n",
       " {'lat': \"30° 33' 21.06108'' N\", 'lng': \"91° 8' 35.35800'' W\"},\n",
       " {'lat': \"30° 31' 18.69060'' N\", 'lng': \"91° 0' 21.35412'' W\"},\n",
       " {'lat': \"30° 28' 3.39816'' N\", 'lng': \"91° 2' 22.31772'' W\"},\n",
       " {'lat': \"30° 23' 32.70336'' N\", 'lng': \"91° 1' 19.46964'' W\"},\n",
       " {'lat': \"30° 29' 32.21232'' N\", 'lng': \"91° 8' 31.42608'' W\"},\n",
       " {'lat': \"30° 22' 37.51824'' N\", 'lng': \"91° 3' 32.76396'' W\"},\n",
       " {'lat': \"30° 29' 2.73048'' N\", 'lng': \"91° 9' 10.27908'' W\"},\n",
       " {'lat': \"30° 16' 31.40400'' N\", 'lng': \"91° 12' 48.47040'' W\"},\n",
       " {'lat': \"32° 35' 32.66880'' N\", 'lng': \"91° 58' 4.19520'' W\"},\n",
       " {'lat': \"31° 14' 57.66468'' N\", 'lng': \"92° 16' 45.47280'' W\"},\n",
       " {'lat': \"30° 32' 3.34500'' N\", 'lng': \"91° 6' 28.82592'' W\"},\n",
       " {'lat': \"30° 34' 32.67588'' N\", 'lng': \"91° 12' 21.38976'' W\"},\n",
       " {'lat': \"30° 21' 57.64716'' N\", 'lng': \"91° 4' 54.59016'' W\"},\n",
       " {'lat': \"30° 25' 21.77544'' N\", 'lng': \"91° 8' 51.97308'' W\"},\n",
       " {'lat': \"30° 26' 54.60000'' N\", 'lng': \"91° 7' 48.00000'' W\"},\n",
       " {'lat': \"30° 29' 25.36404'' N\", 'lng': \"91° 8' 26.04084'' W\"},\n",
       " {'lat': \"30° 25' 31.55484'' N\", 'lng': \"91° 10' 7.43052'' W\"},\n",
       " {'lat': \"30° 22' 11.69292'' N\", 'lng': \"91° 2' 10.37040'' W\"},\n",
       " {'lat': \"30° 35' 29.99040'' N\", 'lng': \"91° 10' 7.70160'' W\"},\n",
       " {'lat': \"30° 29' 9.60000'' N\", 'lng': \"91° 8' 53.16000'' W\"},\n",
       " {'lat': \"30° 40' 53.23908'' N\", 'lng': \"91° 8' 21.70644'' W\"},\n",
       " {'lat': \"30° 25' 39.75024'' N\", 'lng': \"91° 3' 3.12192'' W\"},\n",
       " {'lat': \"30° 26' 25.54656'' N\", 'lng': \"91° 7' 11.21124'' W\"},\n",
       " {'lat': \"30° 44' 17.88000'' N\", 'lng': \"91° 4' 12.00000'' W\"},\n",
       " {'lat': \"30° 28' 43.36140'' N\", 'lng': \"91° 8' 34.45476'' W\"},\n",
       " {'lat': \"30° 35' 53.88288'' N\", 'lng': \"91° 4' 26.24880'' W\"},\n",
       " {'lat': \"30° 37' 33.90168'' N\", 'lng': \"91° 4' 59.83464'' W\"},\n",
       " {'lat': \"30° 29' 13.06536'' N\", 'lng': \"91° 7' 45.35184'' W\"},\n",
       " {'lat': \"30° 38' 54.66876'' N\", 'lng': \"91° 9' 23.38596'' W\"},\n",
       " {'lat': \"30° 26' 18.94596'' N\", 'lng': \"91° 0' 57.41136'' W\"},\n",
       " {'lat': \"30° 33' 15.67656'' N\", 'lng': \"91° 2' 12.37416'' W\"},\n",
       " {'lat': \"30° 22' 24.69252'' N\", 'lng': \"91° 4' 16.37364'' W\"},\n",
       " {'lat': \"30° 27' 54.40860'' N\", 'lng': \"91° 9' 43.96140'' W\"},\n",
       " {'lat': \"30° 26' 49.11216'' N\", 'lng': \"91° 7' 46.31628'' W\"},\n",
       " {'lat': \"30° 35' 29.99040'' N\", 'lng': \"91° 10' 7.70160'' W\"},\n",
       " {'lat': \"30° 26' 36.32388'' N\", 'lng': \"91° 7' 56.60508'' W\"},\n",
       " {'lat': \"30° 27' 20.88000'' N\", 'lng': \"91° 3' 34.56000'' W\"},\n",
       " {'lat': \"30° 34' 56.09496'' N\", 'lng': \"91° 9' 52.86744'' W\"},\n",
       " {'lat': \"30° 31' 54.12000'' N\", 'lng': \"91° 7' 0.12000'' W\"},\n",
       " {'lat': \"30° 24' 42.92244'' N\", 'lng': \"91° 11' 26.63664'' W\"},\n",
       " {'lat': \"30° 28' 38.44920'' N\", 'lng': \"91° 0' 11.13012'' W\"},\n",
       " {'lat': \"30° 28' 1.30188'' N\", 'lng': \"91° 7' 59.85732'' W\"},\n",
       " {'lat': \"30° 24' 7.21692'' N\", 'lng': \"90° 52' 1.79544'' W\"},\n",
       " {'lat': \"30° 29' 31.58448'' N\", 'lng': \"91° 8' 51.08964'' W\"},\n",
       " {'lat': \"30° 32' 9.44268'' N\", 'lng': \"91° 10' 40.80972'' W\"},\n",
       " {'lat': \"30° 27' 40.36536'' N\", 'lng': \"91° 8' 21.38856'' W\"},\n",
       " {'lat': \"30° 25' 38.28000'' N\", 'lng': \"91° 2' 8.16000'' W\"},\n",
       " {'lat': \"30° 39' 21.96000'' N\", 'lng': \"91° 8' 8.88000'' W\"},\n",
       " {'lat': \"30° 24' 58.68612'' N\", 'lng': \"91° 10' 18.54876'' W\"},\n",
       " {'lat': \"30° 28' 2.43372'' N\", 'lng': \"91° 3' 2.41200'' W\"},\n",
       " {'lat': \"30° 36' 33.20928'' N\", 'lng': \"91° 6' 21.34620'' W\"},\n",
       " {'lat': \"30° 29' 13.17444'' N\", 'lng': \"91° 9' 37.18188'' W\"},\n",
       " {'lat': \"30° 30' 47.74032'' N\", 'lng': \"91° 8' 20.36004'' W\"},\n",
       " {'lat': \"30° 27' 0.04320'' N\", 'lng': \"91° 1' 1.29000'' W\"},\n",
       " {'lat': \"30° 34' 9.43464'' N\", 'lng': \"91° 9' 0.22320'' W\"},\n",
       " {'lat': \"30° 23' 2.09688'' N\", 'lng': \"91° 3' 52.21152'' W\"},\n",
       " {'lat': \"30° 26' 50.87184'' N\", 'lng': \"91° 4' 49.74456'' W\"},\n",
       " {'lat': \"30° 34' 46.67376'' N\", 'lng': \"90° 59' 39.37056'' W\"},\n",
       " {'lat': \"30° 27' 7.12872'' N\", 'lng': \"91° 2' 18.58920'' W\"},\n",
       " {'lat': \"30° 24' 36.75384'' N\", 'lng': \"91° 3' 35.28288'' W\"},\n",
       " {'lat': \"30° 31' 54.12000'' N\", 'lng': \"91° 7' 0.12000'' W\"},\n",
       " {'lat': \"30° 25' 24.69864'' N\", 'lng': \"91° 6' 47.44044'' W\"},\n",
       " {'lat': \"30° 28' 47.18208'' N\", 'lng': \"91° 9' 31.61232'' W\"},\n",
       " {'lat': \"30° 32' 0.61224'' N\", 'lng': \"91° 11' 58.70868'' W\"},\n",
       " {'lat': \"30° 29' 55.56768'' N\", 'lng': \"91° 6' 27.91188'' W\"},\n",
       " {'lat': \"30° 29' 45.71952'' N\", 'lng': \"91° 7' 45.33240'' W\"},\n",
       " {'lat': \"30° 21' 41.75208'' N\", 'lng': \"91° 3' 58.66452'' W\"},\n",
       " {'lat': \"30° 29' 7.13688'' N\", 'lng': \"91° 9' 26.02872'' W\"},\n",
       " {'lat': \"30° 28' 23.00916'' N\", 'lng': \"91° 8' 35.27376'' W\"},\n",
       " {'lat': \"30° 26' 35.31948'' N\", 'lng': \"91° 1' 49.68300'' W\"},\n",
       " {'lat': \"30° 33' 49.72104'' N\", 'lng': \"91° 8' 52.40688'' W\"},\n",
       " {'lat': \"30° 27' 48.26016'' N\", 'lng': \"91° 9' 1.43496'' W\"},\n",
       " {'lat': \"30° 24' 45.38088'' N\", 'lng': \"91° 6' 59.62788'' W\"},\n",
       " {'lat': \"30° 25' 51.12120'' N\", 'lng': \"91° 9' 56.02680'' W\"},\n",
       " {'lat': \"30° 29' 9.60000'' N\", 'lng': \"91° 8' 53.16000'' W\"},\n",
       " {'lat': \"30° 29' 10.11660'' N\", 'lng': \"91° 3' 22.99140'' W\"},\n",
       " {'lat': \"30° 22' 24.69252'' N\", 'lng': \"91° 4' 16.37364'' W\"},\n",
       " {'lat': \"30° 28' 49.37520'' N\", 'lng': \"91° 6' 32.93532'' W\"},\n",
       " {'lat': \"30° 27' 52.45380'' N\", 'lng': \"91° 9' 33.24744'' W\"},\n",
       " {'lat': \"30° 24' 55.77120'' N\", 'lng': \"91° 10' 25.85280'' W\"},\n",
       " {'lat': \"30° 34' 31.65384'' N\", 'lng': \"91° 8' 57.93036'' W\"},\n",
       " {'lat': \"30° 38' 54.81024'' N\", 'lng': \"91° 12' 32.33232'' W\"},\n",
       " {'lat': \"30° 38' 15.52128'' N\", 'lng': \"91° 9' 39.80088'' W\"},\n",
       " {'lat': \"30° 34' 50.16612'' N\", 'lng': \"91° 9' 46.98180'' W\"},\n",
       " {'lat': \"30° 25' 38.28000'' N\", 'lng': \"91° 2' 8.16000'' W\"},\n",
       " {'lat': \"30° 34' 5.79252'' N\", 'lng': \"91° 9' 6.20100'' W\"},\n",
       " {'lat': \"30° 26' 23.56512'' N\", 'lng': \"91° 1' 53.26248'' W\"},\n",
       " {'lat': \"30° 39' 21.96000'' N\", 'lng': \"91° 8' 8.88000'' W\"},\n",
       " {'lat': \"30° 25' 38.28000'' N\", 'lng': \"91° 2' 8.16000'' W\"},\n",
       " {'lat': \"30° 28' 42.47580'' N\", 'lng': \"91° 8' 38.81688'' W\"},\n",
       " {'lat': \"30° 26' 54.60000'' N\", 'lng': \"91° 7' 48.00000'' W\"},\n",
       " {'lat': \"30° 24' 42.92244'' N\", 'lng': \"91° 11' 26.63664'' W\"},\n",
       " {'lat': \"30° 23' 34.00224'' N\", 'lng': \"91° 2' 28.36968'' W\"},\n",
       " {'lat': \"30° 30' 18.72000'' N\", 'lng': \"91° 7' 5.16000'' W\"},\n",
       " {'lat': \"30° 24' 20.55168'' N\", 'lng': \"91° 11' 9.48372'' W\"},\n",
       " {'lat': \"30° 31' 58.91160'' N\", 'lng': \"91° 9' 51.42672'' W\"},\n",
       " {'lat': \"30° 27' 20.88000'' N\", 'lng': \"91° 3' 34.56000'' W\"},\n",
       " {'lat': \"30° 27' 20.88000'' N\", 'lng': \"91° 3' 34.56000'' W\"},\n",
       " {'lat': \"30° 32' 13.63380'' N\", 'lng': \"91° 3' 54.58788'' W\"},\n",
       " {'lat': \"30° 25' 38.28000'' N\", 'lng': \"91° 2' 8.16000'' W\"},\n",
       " {'lat': \"30° 26' 47.04144'' N\", 'lng': \"91° 10' 4.67508'' W\"},\n",
       " {'lat': \"30° 28' 17.68440'' N\", 'lng': \"91° 8' 50.38332'' W\"},\n",
       " {'lat': \"30° 28' 2.46648'' N\", 'lng': \"91° 10' 6.96432'' W\"},\n",
       " {'lat': \"30° 25' 38.28000'' N\", 'lng': \"91° 2' 8.16000'' W\"},\n",
       " {'lat': \"30° 29' 9.60000'' N\", 'lng': \"91° 8' 53.16000'' W\"},\n",
       " {'lat': \"30° 23' 2.09688'' N\", 'lng': \"91° 3' 52.21152'' W\"},\n",
       " {'lat': \"30° 28' 30.87876'' N\", 'lng': \"91° 7' 29.91756'' W\"},\n",
       " {'lat': \"30° 26' 18.91032'' N\", 'lng': \"91° 4' 53.57064'' W\"},\n",
       " {'lat': \"30° 29' 5.28000'' N\", 'lng': \"91° 4' 8.04000'' W\"},\n",
       " {'lat': \"30° 21' 26.19936'' N\", 'lng': \"91° 0' 30.11940'' W\"},\n",
       " {'lat': \"30° 29' 5.28000'' N\", 'lng': \"91° 4' 8.04000'' W\"},\n",
       " {'lat': \"30° 27' 54.21204'' N\", 'lng': \"91° 2' 43.23804'' W\"},\n",
       " {'lat': \"30° 27' 18.31392'' N\", 'lng': \"91° 1' 30.36792'' W\"},\n",
       " {'lat': \"30° 21' 36.67104'' N\", 'lng': \"91° 4' 21.61164'' W\"},\n",
       " {'lat': \"30° 24' 24.31188'' N\", 'lng': \"91° 2' 51.55188'' W\"},\n",
       " {'lat': \"30° 25' 22.99944'' N\", 'lng': \"91° 10' 39.07200'' W\"},\n",
       " {'lat': \"30° 26' 7.79136'' N\", 'lng': \"91° 9' 23.38704'' W\"},\n",
       " {'lat': \"30° 27' 42.19596'' N\", 'lng': \"91° 5' 12.19884'' W\"},\n",
       " {'lat': \"30° 27' 33.17724'' N\", 'lng': \"91° 6' 19.12032'' W\"},\n",
       " {'lat': \"30° 27' 25.81596'' N\", 'lng': \"91° 7' 8.52528'' W\"},\n",
       " {'lat': \"30° 17' 59.70084'' N\", 'lng': \"90° 51' 10.35000'' W\"},\n",
       " {'lat': \"30° 26' 15.01080'' N\", 'lng': \"91° 10' 30.46728'' W\"},\n",
       " {'lat': \"30° 35' 38.04720'' N\", 'lng': \"91° 7' 21.35280'' W\"},\n",
       " {'lat': \"30° 25' 34.15980'' N\", 'lng': \"91° 8' 25.58040'' W\"},\n",
       " {'lat': \"30° 35' 52.33632'' N\", 'lng': \"91° 4' 57.87516'' W\"},\n",
       " {'lat': \"30° 27' 23.00976'' N\", 'lng': \"91° 2' 12.60600'' W\"},\n",
       " {'lat': \"30° 26' 22.17336'' N\", 'lng': \"91° 5' 9.91140'' W\"},\n",
       " {'lat': \"30° 29' 40.24392'' N\", 'lng': \"91° 7' 47.15112'' W\"},\n",
       " {'lat': \"30° 23' 10.96224'' N\", 'lng': \"91° 3' 55.40868'' W\"},\n",
       " {'lat': \"30° 26' 7.61676'' N\", 'lng': \"91° 1' 12.38520'' W\"},\n",
       " {'lat': \"30° 41' 1.48452'' N\", 'lng': \"91° 8' 36.76632'' W\"},\n",
       " {'lat': \"30° 39' 55.15452'' N\", 'lng': \"91° 12' 41.81292'' W\"},\n",
       " {'lat': \"30° 26' 28.25520'' N\", 'lng': \"91° 10' 24.51720'' W\"},\n",
       " {'lat': \"30° 21' 36.96660'' N\", 'lng': \"90° 57' 41.08860'' W\"},\n",
       " {'lat': \"30° 29' 16.59732'' N\", 'lng': \"91° 4' 21.26532'' W\"},\n",
       " {'lat': \"30° 33' 24.67728'' N\", 'lng': \"91° 9' 40.38552'' W\"},\n",
       " {'lat': \"30° 25' 55.31052'' N\", 'lng': \"91° 5' 20.29776'' W\"},\n",
       " {'lat': \"30° 33' 26.04744'' N\", 'lng': \"91° 2' 9.87288'' W\"},\n",
       " {'lat': \"30° 25' 38.28000'' N\", 'lng': \"91° 2' 8.16000'' W\"},\n",
       " {'lat': \"30° 26' 14.76636'' N\", 'lng': \"91° 2' 44.32704'' W\"},\n",
       " {'lat': \"30° 28' 19.24212'' N\", 'lng': \"91° 4' 12.27828'' W\"},\n",
       " {'lat': \"30° 30' 17.69112'' N\", 'lng': \"91° 9' 4.84596'' W\"},\n",
       " {'lat': \"30° 23' 25.44000'' N\", 'lng': \"91° 0' 7.56000'' W\"},\n",
       " {'lat': \"30° 23' 7.83348'' N\", 'lng': \"91° 3' 49.54356'' W\"},\n",
       " {'lat': \"30° 32' 45.67812'' N\", 'lng': \"91° 10' 33.38688'' W\"},\n",
       " {'lat': \"30° 23' 31.20000'' N\", 'lng': \"91° 5' 21.12000'' W\"},\n",
       " {'lat': \"30° 28' 21.68400'' N\", 'lng': \"91° 3' 27.37476'' W\"},\n",
       " {'lat': \"30° 28' 55.68384'' N\", 'lng': \"91° 8' 15.79344'' W\"},\n",
       " {'lat': \"30° 26' 6.82008'' N\", 'lng': \"91° 4' 40.43496'' W\"}]"
      ]
     },
     "execution_count": 33,
     "metadata": {},
     "output_type": "execute_result"
    }
   ],
   "source": [
    "geo_list"
   ]
  },
  {
   "cell_type": "code",
   "execution_count": 34,
   "metadata": {},
   "outputs": [
    {
     "data": {
      "text/html": [
       "<div>\n",
       "<style scoped>\n",
       "    .dataframe tbody tr th:only-of-type {\n",
       "        vertical-align: middle;\n",
       "    }\n",
       "\n",
       "    .dataframe tbody tr th {\n",
       "        vertical-align: top;\n",
       "    }\n",
       "\n",
       "    .dataframe thead th {\n",
       "        text-align: right;\n",
       "    }\n",
       "</style>\n",
       "<table border=\"1\" class=\"dataframe\">\n",
       "  <thead>\n",
       "    <tr style=\"text-align: right;\">\n",
       "      <th></th>\n",
       "      <th>lat</th>\n",
       "      <th>lng</th>\n",
       "    </tr>\n",
       "  </thead>\n",
       "  <tbody>\n",
       "    <tr>\n",
       "      <th>0</th>\n",
       "      <td>30° 29' 40.42716'' N</td>\n",
       "      <td>91° 9' 21.98016'' W</td>\n",
       "    </tr>\n",
       "    <tr>\n",
       "      <th>1</th>\n",
       "      <td>30° 25' 34.68792'' N</td>\n",
       "      <td>91° 2' 19.37184'' W</td>\n",
       "    </tr>\n",
       "    <tr>\n",
       "      <th>2</th>\n",
       "      <td>30° 38' 54.66876'' N</td>\n",
       "      <td>91° 9' 23.38596'' W</td>\n",
       "    </tr>\n",
       "    <tr>\n",
       "      <th>3</th>\n",
       "      <td>30° 28' 33.38040'' N</td>\n",
       "      <td>91° 10' 6.17880'' W</td>\n",
       "    </tr>\n",
       "    <tr>\n",
       "      <th>4</th>\n",
       "      <td>30° 34' 53.04000'' N</td>\n",
       "      <td>91° 8' 34.44000'' W</td>\n",
       "    </tr>\n",
       "    <tr>\n",
       "      <th>...</th>\n",
       "      <td>...</td>\n",
       "      <td>...</td>\n",
       "    </tr>\n",
       "    <tr>\n",
       "      <th>168</th>\n",
       "      <td>30° 32' 45.67812'' N</td>\n",
       "      <td>91° 10' 33.38688'' W</td>\n",
       "    </tr>\n",
       "    <tr>\n",
       "      <th>169</th>\n",
       "      <td>30° 23' 31.20000'' N</td>\n",
       "      <td>91° 5' 21.12000'' W</td>\n",
       "    </tr>\n",
       "    <tr>\n",
       "      <th>170</th>\n",
       "      <td>30° 28' 21.68400'' N</td>\n",
       "      <td>91° 3' 27.37476'' W</td>\n",
       "    </tr>\n",
       "    <tr>\n",
       "      <th>171</th>\n",
       "      <td>30° 28' 55.68384'' N</td>\n",
       "      <td>91° 8' 15.79344'' W</td>\n",
       "    </tr>\n",
       "    <tr>\n",
       "      <th>172</th>\n",
       "      <td>30° 26' 6.82008'' N</td>\n",
       "      <td>91° 4' 40.43496'' W</td>\n",
       "    </tr>\n",
       "  </tbody>\n",
       "</table>\n",
       "<p>173 rows × 2 columns</p>\n",
       "</div>"
      ],
      "text/plain": [
       "                      lat                   lng\n",
       "0    30° 29' 40.42716'' N   91° 9' 21.98016'' W\n",
       "1    30° 25' 34.68792'' N   91° 2' 19.37184'' W\n",
       "2    30° 38' 54.66876'' N   91° 9' 23.38596'' W\n",
       "3    30° 28' 33.38040'' N   91° 10' 6.17880'' W\n",
       "4    30° 34' 53.04000'' N   91° 8' 34.44000'' W\n",
       "..                    ...                   ...\n",
       "168  30° 32' 45.67812'' N  91° 10' 33.38688'' W\n",
       "169  30° 23' 31.20000'' N   91° 5' 21.12000'' W\n",
       "170  30° 28' 21.68400'' N   91° 3' 27.37476'' W\n",
       "171  30° 28' 55.68384'' N   91° 8' 15.79344'' W\n",
       "172   30° 26' 6.82008'' N   91° 4' 40.43496'' W\n",
       "\n",
       "[173 rows x 2 columns]"
      ]
     },
     "execution_count": 34,
     "metadata": {},
     "output_type": "execute_result"
    }
   ],
   "source": [
    "pd.DataFrame(geo_list)"
   ]
  },
  {
   "cell_type": "markdown",
   "metadata": {},
   "source": [
    "#### apply to all"
   ]
  },
  {
   "cell_type": "code",
   "execution_count": 36,
   "metadata": {},
   "outputs": [],
   "source": [
    "first_list = adress_list[100:140]\n",
    "\n",
    "geo_list = []\n",
    "for adress in first_list:\n",
    "    g = geocoder.opencage(adress, key=\"x\")\n",
    "    result = g.json.keys()\n",
    "    key = list(result)[0]\n",
    "    geo = g.json[key]\n",
    "    geo_list.append(geo)"
   ]
  },
  {
   "cell_type": "code",
   "execution_count": 37,
   "metadata": {},
   "outputs": [
    {
     "data": {
      "text/plain": [
       "[{'lat': \"30° 22' 44.47236'' N\", 'lng': \"91° 4' 4.32372'' W\"},\n",
       " {'lat': \"30° 28' 49.37520'' N\", 'lng': \"91° 6' 32.93532'' W\"},\n",
       " {'lat': \"30° 27' 52.45380'' N\", 'lng': \"91° 9' 33.24744'' W\"},\n",
       " {'lat': \"30° 24' 55.77120'' N\", 'lng': \"91° 10' 25.85280'' W\"},\n",
       " {'lat': \"30° 34' 31.65384'' N\", 'lng': \"91° 8' 57.93036'' W\"},\n",
       " {'lat': \"30° 38' 54.81024'' N\", 'lng': \"91° 12' 32.33232'' W\"},\n",
       " {'lat': \"30° 38' 15.52128'' N\", 'lng': \"91° 9' 39.80088'' W\"},\n",
       " {'lat': \"30° 34' 50.16612'' N\", 'lng': \"91° 9' 46.98180'' W\"},\n",
       " {'lat': \"30° 25' 38.28000'' N\", 'lng': \"91° 2' 8.16000'' W\"},\n",
       " {'lat': \"30° 34' 5.59740'' N\", 'lng': \"91° 8' 59.44992'' W\"},\n",
       " {'lat': \"30° 26' 23.56512'' N\", 'lng': \"91° 1' 53.26248'' W\"},\n",
       " {'lat': \"30° 39' 21.96000'' N\", 'lng': \"91° 8' 8.88000'' W\"},\n",
       " {'lat': \"30° 25' 38.28000'' N\", 'lng': \"91° 2' 8.16000'' W\"},\n",
       " {'lat': \"30° 28' 42.47580'' N\", 'lng': \"91° 8' 38.81688'' W\"},\n",
       " {'lat': \"30° 26' 54.60000'' N\", 'lng': \"91° 7' 48.00000'' W\"},\n",
       " {'lat': \"30° 24' 42.92244'' N\", 'lng': \"91° 11' 26.63664'' W\"},\n",
       " {'lat': \"30° 23' 34.00224'' N\", 'lng': \"91° 2' 28.36968'' W\"},\n",
       " {'lat': \"30° 30' 18.72000'' N\", 'lng': \"91° 7' 5.16000'' W\"},\n",
       " {'lat': \"30° 24' 45.38088'' N\", 'lng': \"91° 6' 59.62788'' W\"},\n",
       " {'lat': \"30° 31' 58.91160'' N\", 'lng': \"91° 9' 51.42672'' W\"},\n",
       " {'lat': \"30° 27' 20.88000'' N\", 'lng': \"91° 3' 34.56000'' W\"},\n",
       " {'lat': \"30° 27' 20.88000'' N\", 'lng': \"91° 3' 34.56000'' W\"},\n",
       " {'lat': \"30° 32' 13.63380'' N\", 'lng': \"91° 3' 54.58788'' W\"},\n",
       " {'lat': \"30° 25' 38.28000'' N\", 'lng': \"91° 2' 8.16000'' W\"},\n",
       " {'lat': \"30° 26' 47.04144'' N\", 'lng': \"91° 10' 4.67508'' W\"},\n",
       " {'lat': \"30° 29' 19.68288'' N\", 'lng': \"91° 8' 21.38316'' W\"},\n",
       " {'lat': \"30° 28' 2.46648'' N\", 'lng': \"91° 10' 6.96432'' W\"},\n",
       " {'lat': \"30° 25' 38.28000'' N\", 'lng': \"91° 2' 8.16000'' W\"},\n",
       " {'lat': \"30° 29' 9.60000'' N\", 'lng': \"91° 8' 53.16000'' W\"},\n",
       " {'lat': \"30° 23' 2.09688'' N\", 'lng': \"91° 3' 52.21152'' W\"},\n",
       " {'lat': \"30° 28' 30.87876'' N\", 'lng': \"91° 7' 29.91756'' W\"},\n",
       " {'lat': \"30° 26' 18.91032'' N\", 'lng': \"91° 4' 53.57064'' W\"},\n",
       " {'lat': \"30° 29' 5.28000'' N\", 'lng': \"91° 4' 8.04000'' W\"},\n",
       " {'lat': \"30° 30' 31.00752'' N\", 'lng': \"91° 10' 12.03888'' W\"},\n",
       " {'lat': \"30° 29' 5.28000'' N\", 'lng': \"91° 4' 8.04000'' W\"},\n",
       " {'lat': \"30° 27' 54.21204'' N\", 'lng': \"91° 2' 43.23804'' W\"},\n",
       " {'lat': \"30° 27' 18.66888'' N\", 'lng': \"91° 1' 28.86420'' W\"},\n",
       " {'lat': \"30° 21' 36.67104'' N\", 'lng': \"91° 4' 21.61164'' W\"},\n",
       " {'lat': \"30° 24' 24.31188'' N\", 'lng': \"91° 2' 51.55188'' W\"},\n",
       " {'lat': \"30° 25' 22.99944'' N\", 'lng': \"91° 10' 39.07200'' W\"}]"
      ]
     },
     "execution_count": 37,
     "metadata": {},
     "output_type": "execute_result"
    }
   ],
   "source": [
    "geo_list"
   ]
  },
  {
   "cell_type": "markdown",
   "metadata": {},
   "source": [
    "### --> It worked out. However, the API limit for free version is set to 2.500 per days. As the adress list has more than 30.000 lines, I decided not to add it to my Tableau. "
   ]
  },
  {
   "cell_type": "markdown",
   "metadata": {},
   "source": [
    "## Trying to use the Bing Geo API"
   ]
  },
  {
   "cell_type": "code",
   "execution_count": 45,
   "metadata": {},
   "outputs": [],
   "source": [
    "url = \"http://spatial.virtualearth.net/REST/v1/Dataflows/Geocode?input=csv&key=x\""
   ]
  },
  {
   "cell_type": "code",
   "execution_count": 48,
   "metadata": {},
   "outputs": [
    {
     "data": {
      "text/plain": [
       "30894"
      ]
     },
     "execution_count": 48,
     "metadata": {},
     "output_type": "execute_result"
    }
   ],
   "source": [
    "len(adress_list)"
   ]
  },
  {
   "cell_type": "code",
   "execution_count": 49,
   "metadata": {},
   "outputs": [],
   "source": [
    "bing_sample = adress_list[0:50]"
   ]
  },
  {
   "cell_type": "code",
   "execution_count": 53,
   "metadata": {},
   "outputs": [],
   "source": [
    "BingMapsAPIKey = \"x\""
   ]
  },
  {
   "cell_type": "markdown",
   "metadata": {},
   "source": [
    "### Due to time constraints, I will not use the API for this project."
   ]
  },
  {
   "cell_type": "code",
   "execution_count": null,
   "metadata": {},
   "outputs": [],
   "source": []
  }
 ],
 "metadata": {
  "kernelspec": {
   "display_name": "Python 3",
   "language": "python",
   "name": "python3"
  },
  "language_info": {
   "codemirror_mode": {
    "name": "ipython",
    "version": 3
   },
   "file_extension": ".py",
   "mimetype": "text/x-python",
   "name": "python",
   "nbconvert_exporter": "python",
   "pygments_lexer": "ipython3",
   "version": "3.7.7"
  }
 },
 "nbformat": 4,
 "nbformat_minor": 4
}
