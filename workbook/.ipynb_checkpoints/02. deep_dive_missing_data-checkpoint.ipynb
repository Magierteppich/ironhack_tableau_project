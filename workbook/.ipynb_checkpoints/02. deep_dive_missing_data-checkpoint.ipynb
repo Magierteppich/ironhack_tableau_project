{
 "cells": [
  {
   "cell_type": "markdown",
   "metadata": {},
   "source": [
    "# 2. Deep_dive_missing_data\n",
    "\n",
    "When first plotting the data in Tableau, one can observe: \n",
    "1) for year 2016-2018, the number of cases are as doubled compared to the preious years and 2019. \n",
    "2) for year 2016-2018, almost half of the records didn't contain complete information, especially for SERVICE CODE, location, species, breed etc.\n",
    "\n",
    "The hypothesis is:\n",
    "--->REQUEST CODE and COMPLAINANT_STREET contains information collected during the emergency phone call. \n",
    "\n",
    "--> However, only if the Baton Rouge Animal Control and Rescue Center (ACRC) provided service (\"SERVICE CODE\"), more detailed information such as breed, temperment, condition, species and location are collected. \n",
    "\n",
    "--> Empty SERVICE CODE fields only appeared in the years 2016-2018 and the systems has been changed back to only recordings cases, where service has been provided. \n",
    "\n",
    "--> Therefore, as a consequence, I decided to take out all records in the years 2016-2019, whenever the \"SERVICE CODE\" is not filled out. "
   ]
  },
  {
   "cell_type": "code",
   "execution_count": 113,
   "metadata": {},
   "outputs": [],
   "source": [
    "import pandas as pd"
   ]
  },
  {
   "cell_type": "code",
   "execution_count": 114,
   "metadata": {},
   "outputs": [],
   "source": [
    "df = pd.read_pickle(\"/Users/Tianwang/ironhack/git/03_project_ironhack_tableau/data/baton_rouge_animal_control_incidents_deep_dive.pkl\")"
   ]
  },
  {
   "cell_type": "code",
   "execution_count": 115,
   "metadata": {},
   "outputs": [
    {
     "data": {
      "text/plain": [
       "UNKNOWN                       4719\n",
       "STRAY                         2077\n",
       "LOOSE ANIMAL                  1552\n",
       "CRUELTY CASE                  1439\n",
       "DELIVERED TAGS                1065\n",
       "OTHER                          953\n",
       "PICK UP TRAP                   784\n",
       "BITE CASE                      654\n",
       "PATROL AREA                    654\n",
       "PIT                            618\n",
       "CRUELTY RECHECK                509\n",
       "ANIMAL RESCUE                  499\n",
       "DELIVER TRAP                   479\n",
       "ABANDONED DOG                  429\n",
       "TRAPPED ANIMAL                 390\n",
       "STRAY ANIMAL SECURED           381\n",
       "SPECIAL CASE                   373\n",
       "INJURED ANIMAL                 360\n",
       "PICK UP OR DELIVER PACKAGE     349\n",
       "SNAKE                          338\n",
       "DANGEROUS ANIMAL SITUATION     329\n",
       "WILD LIFE                      290\n",
       "UNIT STANDING BY               208\n",
       "BARKING DOG                    201\n",
       "LOOSE LIVE STOCK               168\n",
       "ANIMAL ON SCHOOL CAMPUS         91\n",
       "SICK ANIMAL                     83\n",
       "OWNER SIGNED RELEASE            81\n",
       "VET PICKUP                      78\n",
       "VET TRANSFER                    34\n",
       "DELIVER TAGS                     8\n",
       "Name: REQUEST TYPE, dtype: int64"
      ]
     },
     "execution_count": 115,
     "metadata": {},
     "output_type": "execute_result"
    }
   ],
   "source": [
    "#SERVICE CODE = NaN / Hypothesis: REQUEST TYPE IS NOT empty. --> proven\n",
    "\n",
    "df[df[\"SERVICE CODE\"].isnull()][\"REQUEST TYPE\"].value_counts(dropna = False)"
   ]
  },
  {
   "cell_type": "code",
   "execution_count": 116,
   "metadata": {},
   "outputs": [
    {
     "data": {
      "text/plain": [
       "NaN                     20193\n",
       "TRAPPED ANIMAL          17585\n",
       "STRAY                    8227\n",
       "STRAY AND SECURED        8067\n",
       "LOOSE                    2742\n",
       "OWNER SIGNED RELEASE     2193\n",
       "INJURED                  2001\n",
       "ABANDONED ANIMAL         1904\n",
       "WILD LIVE                1313\n",
       "CRUELTY                  1186\n",
       "UNIT STANDING BY         1156\n",
       "BITE CASE LOOSE           932\n",
       "DANGEROUS ANIMAL SIT      844\n",
       "ANIMAL RESCUE             840\n",
       "SICK ANIMAL               801\n",
       "VET PICKUP                720\n",
       "BITE CASE SECURE          452\n",
       "SNAKE                     342\n",
       "LOOSE LIVESTOCK           330\n",
       "SPECIAL CASE              312\n",
       "UNKNOWN                   260\n",
       "SCHOOL CALL               258\n",
       "DOG FIGHTING              131\n",
       "BITE CASE                 130\n",
       "OWNED                       4\n",
       "HIT BY CAR                  1\n",
       "Name: SERVICE CODE, dtype: int64"
      ]
     },
     "execution_count": 116,
     "metadata": {},
     "output_type": "execute_result"
    }
   ],
   "source": [
    "df[\"SERVICE CODE\"].value_counts(dropna = False) "
   ]
  },
  {
   "cell_type": "code",
   "execution_count": 117,
   "metadata": {},
   "outputs": [
    {
     "data": {
      "text/plain": [
       "DOG          26700\n",
       "NaN          20215\n",
       "CAT          13239\n",
       "WILDLIFE     11157\n",
       "LIVESTOCK      465\n",
       "REPTILE        415\n",
       "FOWL           339\n",
       "BIRD           175\n",
       "BIRDS          129\n",
       "UNKNOWN         43\n",
       "OTHER           41\n",
       "EXOTIC           6\n",
       "Name: SPECIES, dtype: int64"
      ]
     },
     "execution_count": 117,
     "metadata": {},
     "output_type": "execute_result"
    }
   ],
   "source": [
    "df[\"SPECIES\"].value_counts(dropna = False) #hypothesis: if Species = NaN, Service Code is empty as well."
   ]
  },
  {
   "cell_type": "code",
   "execution_count": 118,
   "metadata": {},
   "outputs": [
    {
     "data": {
      "text/plain": [
       "NaN                     20193\n",
       "TRAPPED ANIMAL              9\n",
       "WILD LIVE                   3\n",
       "DANGEROUS ANIMAL SIT        2\n",
       "ABANDONED ANIMAL            2\n",
       "UNIT STANDING BY            1\n",
       "CRUELTY                     1\n",
       "INJURED                     1\n",
       "OWNER SIGNED RELEASE        1\n",
       "VET PICKUP                  1\n",
       "STRAY                       1\n",
       "Name: SERVICE CODE, dtype: int64"
      ]
     },
     "execution_count": 118,
     "metadata": {},
     "output_type": "execute_result"
    }
   ],
   "source": [
    "df[df[\"SPECIES\"].isnull()][\"SERVICE CODE\"].value_counts(dropna = False) #hypothesis proven. "
   ]
  },
  {
   "cell_type": "code",
   "execution_count": 119,
   "metadata": {},
   "outputs": [
    {
     "data": {
      "text/plain": [
       "NaN                     20193\n",
       "TRAPPED ANIMAL          17585\n",
       "STRAY                    8227\n",
       "STRAY AND SECURED        8067\n",
       "LOOSE                    2742\n",
       "OWNER SIGNED RELEASE     2193\n",
       "INJURED                  2001\n",
       "ABANDONED ANIMAL         1904\n",
       "WILD LIVE                1313\n",
       "CRUELTY                  1186\n",
       "UNIT STANDING BY         1156\n",
       "BITE CASE LOOSE           932\n",
       "DANGEROUS ANIMAL SIT      844\n",
       "ANIMAL RESCUE             840\n",
       "SICK ANIMAL               801\n",
       "VET PICKUP                720\n",
       "BITE CASE SECURE          452\n",
       "SNAKE                     342\n",
       "LOOSE LIVESTOCK           330\n",
       "SPECIAL CASE              312\n",
       "UNKNOWN                   260\n",
       "SCHOOL CALL               258\n",
       "DOG FIGHTING              131\n",
       "BITE CASE                 130\n",
       "OWNED                       4\n",
       "HIT BY CAR                  1\n",
       "Name: SERVICE CODE, dtype: int64"
      ]
     },
     "execution_count": 119,
     "metadata": {},
     "output_type": "execute_result"
    }
   ],
   "source": [
    "df[\"SERVICE CODE\"].value_counts(dropna = False) \n",
    "#hypothesis: if SERVICE CODE is NaN, all other relevant fields are NaN as well.(e.g. Breed, Species, Temperment, Condition)"
   ]
  },
  {
   "cell_type": "code",
   "execution_count": 120,
   "metadata": {},
   "outputs": [],
   "source": [
    "test = df.loc[df[\"SERVICE CODE\"].isnull(),[\"SPECIES\",\"TEMPERMENT\",\"CONDITION\"]]"
   ]
  },
  {
   "cell_type": "code",
   "execution_count": 121,
   "metadata": {},
   "outputs": [
    {
     "data": {
      "text/plain": [
       "NaN    20193\n",
       "Name: SPECIES, dtype: int64"
      ]
     },
     "execution_count": 121,
     "metadata": {},
     "output_type": "execute_result"
    }
   ],
   "source": [
    "test[\"SPECIES\"].value_counts(dropna=False)"
   ]
  },
  {
   "cell_type": "code",
   "execution_count": 122,
   "metadata": {},
   "outputs": [
    {
     "data": {
      "text/plain": [
       "NaN    20193\n",
       "Name: TEMPERMENT, dtype: int64"
      ]
     },
     "execution_count": 122,
     "metadata": {},
     "output_type": "execute_result"
    }
   ],
   "source": [
    "test[\"TEMPERMENT\"].value_counts(dropna=False)"
   ]
  },
  {
   "cell_type": "code",
   "execution_count": 123,
   "metadata": {},
   "outputs": [
    {
     "data": {
      "text/plain": [
       "NaN    20193\n",
       "Name: CONDITION, dtype: int64"
      ]
     },
     "execution_count": 123,
     "metadata": {},
     "output_type": "execute_result"
    }
   ],
   "source": [
    "test[\"CONDITION\"].value_counts(dropna=False)"
   ]
  },
  {
   "cell_type": "markdown",
   "metadata": {},
   "source": [
    "# Removing the records, where no service has been provided."
   ]
  },
  {
   "cell_type": "code",
   "execution_count": 124,
   "metadata": {},
   "outputs": [],
   "source": [
    "df_select = pd.read_pickle(\"/Users/Tianwang/ironhack/git/03_project_ironhack_tableau/data/baton_rouge_animal_control_incidents_clean.pkl\")"
   ]
  },
  {
   "cell_type": "markdown",
   "metadata": {},
   "source": [
    "## First returning a new dataframe with only rows, where service_code is not NaN"
   ]
  },
  {
   "cell_type": "code",
   "execution_count": 125,
   "metadata": {},
   "outputs": [],
   "source": [
    "new = df[df_select[\"service_code\"].notna()]"
   ]
  },
  {
   "cell_type": "code",
   "execution_count": 126,
   "metadata": {},
   "outputs": [
    {
     "data": {
      "text/plain": [
       "52731"
      ]
     },
     "execution_count": 126,
     "metadata": {},
     "output_type": "execute_result"
    }
   ],
   "source": [
    "len(new) "
   ]
  },
  {
   "cell_type": "code",
   "execution_count": 127,
   "metadata": {},
   "outputs": [
    {
     "data": {
      "text/plain": [
       "72924"
      ]
     },
     "execution_count": 127,
     "metadata": {},
     "output_type": "execute_result"
    }
   ],
   "source": [
    "len(df_select) #the old df hat 72924 rows."
   ]
  },
  {
   "cell_type": "code",
   "execution_count": 128,
   "metadata": {},
   "outputs": [
    {
     "data": {
      "text/plain": [
       "52731"
      ]
     },
     "execution_count": 128,
     "metadata": {},
     "output_type": "execute_result"
    }
   ],
   "source": [
    "to_be_dropped = len(df_select) - len(test)\n",
    "to_be_dropped \n",
    "\n",
    "#20193 rows with emtpy Service Code will be dropped."
   ]
  },
  {
   "cell_type": "markdown",
   "metadata": {},
   "source": [
    "## Cross-check how the dropped rows look like. "
   ]
  },
  {
   "cell_type": "code",
   "execution_count": 129,
   "metadata": {},
   "outputs": [],
   "source": [
    "isna = df[df_select[\"service_code\"].isna()]"
   ]
  },
  {
   "cell_type": "code",
   "execution_count": 130,
   "metadata": {},
   "outputs": [
    {
     "data": {
      "text/plain": [
       "2017    9154\n",
       "2016    6544\n",
       "2018    4486\n",
       "2019       9\n",
       "Name: year, dtype: int64"
      ]
     },
     "execution_count": 130,
     "metadata": {},
     "output_type": "execute_result"
    }
   ],
   "source": [
    "isna[\"year\"].value_counts() #Just to confirm that the insa values almost only occured in 2016-2018. "
   ]
  },
  {
   "cell_type": "markdown",
   "metadata": {},
   "source": [
    "## Create a new file with the new dataframe."
   ]
  },
  {
   "cell_type": "code",
   "execution_count": 131,
   "metadata": {},
   "outputs": [],
   "source": [
    "pd.to_pickle (new, \"/Users/Tianwang/ironhack/git/03_project_ironhack_tableau/data/baton_rouge_animal_control_incidents_clean_update.pkl\")"
   ]
  },
  {
   "cell_type": "code",
   "execution_count": 132,
   "metadata": {},
   "outputs": [],
   "source": [
    "new.to_csv(\"/Users/Tianwang/ironhack/git/03_project_ironhack_tableau/data/baton_rouge_animal_control_incidents_clean_update.csv\", sep=\";\", index=False)"
   ]
  },
  {
   "cell_type": "code",
   "execution_count": null,
   "metadata": {},
   "outputs": [],
   "source": []
  }
 ],
 "metadata": {
  "kernelspec": {
   "display_name": "Python 3",
   "language": "python",
   "name": "python3"
  },
  "language_info": {
   "codemirror_mode": {
    "name": "ipython",
    "version": 3
   },
   "file_extension": ".py",
   "mimetype": "text/x-python",
   "name": "python",
   "nbconvert_exporter": "python",
   "pygments_lexer": "ipython3",
   "version": "3.7.7"
  }
 },
 "nbformat": 4,
 "nbformat_minor": 4
}
