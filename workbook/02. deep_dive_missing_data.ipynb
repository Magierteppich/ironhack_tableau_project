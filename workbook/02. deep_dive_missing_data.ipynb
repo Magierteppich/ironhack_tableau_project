{
 "cells": [
  {
   "cell_type": "markdown",
   "metadata": {},
   "source": [
    "# 2. Deep_dive_missing_data\n",
    "\n",
    "When first plotting the data in Tableau, one can observe: \n",
    "1) for year 2016-2018, the number of cases are as doubled compared to the preious years and 2019. \n",
    "2) for year 2016-2018, almost half of the records didn't contain complete information, especially for SERVICE CODE, location, species, breed etc.\n",
    "\n",
    "The hypothesis is:\n",
    "--->REQUEST CODE and COMPLAINANT_STREET contains information collected during the emergency phone call. \n",
    "\n",
    "--> However, only if the Baton Rouge Animal Control and Rescue Center (ACRC) provided service (\"SERVICE CODE\"), more detailed information such as breed, temperment, condition, species and location are collected. \n",
    "\n",
    "--> Empty SERVICE CODE fields only appeared in the years 2016-2018 and the systems has been changed back to only recordings cases, where service has been provided. \n",
    "\n",
    "--> Therefore, as a consequence, I decided to take out all records in the years 2016-2019, whenever the \"SERVICE CODE\" is not filled out. \n",
    "\n",
    "To test my hypothesis, I used the table with all relevant columns and did several cross-checks. "
   ]
  },
  {
   "cell_type": "code",
   "execution_count": 1,
   "metadata": {},
   "outputs": [],
   "source": [
    "import pandas as pd"
   ]
  },
  {
   "cell_type": "code",
   "execution_count": 2,
   "metadata": {},
   "outputs": [],
   "source": [
    "df = pd.read_pickle(\"/Users/Tianwang/ironhack/git/03_project_ironhack_tableau/data/baton_rouge_animal_control_incidents_deep_dive.pkl\")"
   ]
  },
  {
   "cell_type": "code",
   "execution_count": 3,
   "metadata": {},
   "outputs": [
    {
     "data": {
      "text/plain": [
       "UNKNOWN                       4719\n",
       "STRAY                         2077\n",
       "LOOSE ANIMAL                  1552\n",
       "CRUELTY CASE                  1439\n",
       "DELIVERED TAGS                1065\n",
       "OTHER                          953\n",
       "PICK UP TRAP                   784\n",
       "BITE CASE                      654\n",
       "PATROL AREA                    654\n",
       "PIT                            618\n",
       "CRUELTY RECHECK                509\n",
       "ANIMAL RESCUE                  499\n",
       "DELIVER TRAP                   479\n",
       "ABANDONED DOG                  429\n",
       "TRAPPED ANIMAL                 390\n",
       "STRAY ANIMAL SECURED           381\n",
       "SPECIAL CASE                   373\n",
       "INJURED ANIMAL                 360\n",
       "PICK UP OR DELIVER PACKAGE     349\n",
       "SNAKE                          338\n",
       "DANGEROUS ANIMAL SITUATION     329\n",
       "WILD LIFE                      290\n",
       "UNIT STANDING BY               208\n",
       "BARKING DOG                    201\n",
       "LOOSE LIVE STOCK               168\n",
       "ANIMAL ON SCHOOL CAMPUS         91\n",
       "SICK ANIMAL                     83\n",
       "OWNER SIGNED RELEASE            81\n",
       "VET PICKUP                      78\n",
       "VET TRANSFER                    34\n",
       "DELIVER TAGS                     8\n",
       "Name: REQUEST TYPE, dtype: int64"
      ]
     },
     "execution_count": 3,
     "metadata": {},
     "output_type": "execute_result"
    }
   ],
   "source": [
    "#SERVICE CODE = NaN / Hypothesis: REQUEST TYPE IS NOT empty. --> proven\n",
    "\n",
    "df[df[\"SERVICE CODE\"].isnull()][\"REQUEST TYPE\"].value_counts(dropna = False)"
   ]
  },
  {
   "cell_type": "code",
   "execution_count": 4,
   "metadata": {},
   "outputs": [
    {
     "data": {
      "text/plain": [
       "NaN                     20193\n",
       "TRAPPED ANIMAL          17585\n",
       "STRAY                    8227\n",
       "STRAY AND SECURED        8067\n",
       "LOOSE                    2742\n",
       "OWNER SIGNED RELEASE     2193\n",
       "INJURED                  2001\n",
       "ABANDONED ANIMAL         1904\n",
       "WILD LIVE                1313\n",
       "CRUELTY                  1186\n",
       "UNIT STANDING BY         1156\n",
       "BITE CASE LOOSE           932\n",
       "DANGEROUS ANIMAL SIT      844\n",
       "ANIMAL RESCUE             840\n",
       "SICK ANIMAL               801\n",
       "VET PICKUP                720\n",
       "BITE CASE SECURE          452\n",
       "SNAKE                     342\n",
       "LOOSE LIVESTOCK           330\n",
       "SPECIAL CASE              312\n",
       "UNKNOWN                   260\n",
       "SCHOOL CALL               258\n",
       "DOG FIGHTING              131\n",
       "BITE CASE                 130\n",
       "OWNED                       4\n",
       "HIT BY CAR                  1\n",
       "Name: SERVICE CODE, dtype: int64"
      ]
     },
     "execution_count": 4,
     "metadata": {},
     "output_type": "execute_result"
    }
   ],
   "source": [
    "df[\"SERVICE CODE\"].value_counts(dropna = False) "
   ]
  },
  {
   "cell_type": "code",
   "execution_count": 5,
   "metadata": {},
   "outputs": [
    {
     "data": {
      "text/plain": [
       "DOG          26700\n",
       "NaN          20215\n",
       "CAT          13239\n",
       "WILDLIFE     11157\n",
       "LIVESTOCK      465\n",
       "REPTILE        415\n",
       "FOWL           339\n",
       "BIRD           175\n",
       "BIRDS          129\n",
       "UNKNOWN         43\n",
       "OTHER           41\n",
       "EXOTIC           6\n",
       "Name: SPECIES, dtype: int64"
      ]
     },
     "execution_count": 5,
     "metadata": {},
     "output_type": "execute_result"
    }
   ],
   "source": [
    "df[\"SPECIES\"].value_counts(dropna = False) #hypothesis: if Species = NaN, Service Code is empty as well."
   ]
  },
  {
   "cell_type": "code",
   "execution_count": 6,
   "metadata": {},
   "outputs": [
    {
     "data": {
      "text/plain": [
       "NaN                     20193\n",
       "TRAPPED ANIMAL              9\n",
       "WILD LIVE                   3\n",
       "DANGEROUS ANIMAL SIT        2\n",
       "ABANDONED ANIMAL            2\n",
       "VET PICKUP                  1\n",
       "STRAY                       1\n",
       "INJURED                     1\n",
       "OWNER SIGNED RELEASE        1\n",
       "UNIT STANDING BY            1\n",
       "CRUELTY                     1\n",
       "Name: SERVICE CODE, dtype: int64"
      ]
     },
     "execution_count": 6,
     "metadata": {},
     "output_type": "execute_result"
    }
   ],
   "source": [
    "df[df[\"SPECIES\"].isnull()][\"SERVICE CODE\"].value_counts(dropna = False) #hypothesis proven. "
   ]
  },
  {
   "cell_type": "code",
   "execution_count": 7,
   "metadata": {},
   "outputs": [
    {
     "data": {
      "text/plain": [
       "NaN                     20193\n",
       "TRAPPED ANIMAL          17585\n",
       "STRAY                    8227\n",
       "STRAY AND SECURED        8067\n",
       "LOOSE                    2742\n",
       "OWNER SIGNED RELEASE     2193\n",
       "INJURED                  2001\n",
       "ABANDONED ANIMAL         1904\n",
       "WILD LIVE                1313\n",
       "CRUELTY                  1186\n",
       "UNIT STANDING BY         1156\n",
       "BITE CASE LOOSE           932\n",
       "DANGEROUS ANIMAL SIT      844\n",
       "ANIMAL RESCUE             840\n",
       "SICK ANIMAL               801\n",
       "VET PICKUP                720\n",
       "BITE CASE SECURE          452\n",
       "SNAKE                     342\n",
       "LOOSE LIVESTOCK           330\n",
       "SPECIAL CASE              312\n",
       "UNKNOWN                   260\n",
       "SCHOOL CALL               258\n",
       "DOG FIGHTING              131\n",
       "BITE CASE                 130\n",
       "OWNED                       4\n",
       "HIT BY CAR                  1\n",
       "Name: SERVICE CODE, dtype: int64"
      ]
     },
     "execution_count": 7,
     "metadata": {},
     "output_type": "execute_result"
    }
   ],
   "source": [
    "df[\"SERVICE CODE\"].value_counts(dropna = False) \n",
    "#hypothesis: if SERVICE CODE is NaN, all other relevant fields are NaN as well.(e.g. Breed, Species, Temperment, Condition)"
   ]
  },
  {
   "cell_type": "code",
   "execution_count": 8,
   "metadata": {},
   "outputs": [],
   "source": [
    "test = df.loc[df[\"SERVICE CODE\"].isnull(),[\"SPECIES\",\"TEMPERMENT\",\"CONDITION\"]]"
   ]
  },
  {
   "cell_type": "code",
   "execution_count": 9,
   "metadata": {},
   "outputs": [
    {
     "data": {
      "text/plain": [
       "NaN    20193\n",
       "Name: SPECIES, dtype: int64"
      ]
     },
     "execution_count": 9,
     "metadata": {},
     "output_type": "execute_result"
    }
   ],
   "source": [
    "test[\"SPECIES\"].value_counts(dropna=False)"
   ]
  },
  {
   "cell_type": "code",
   "execution_count": 10,
   "metadata": {},
   "outputs": [
    {
     "data": {
      "text/plain": [
       "NaN    20193\n",
       "Name: TEMPERMENT, dtype: int64"
      ]
     },
     "execution_count": 10,
     "metadata": {},
     "output_type": "execute_result"
    }
   ],
   "source": [
    "test[\"TEMPERMENT\"].value_counts(dropna=False)"
   ]
  },
  {
   "cell_type": "code",
   "execution_count": 11,
   "metadata": {},
   "outputs": [
    {
     "data": {
      "text/plain": [
       "NaN    20193\n",
       "Name: CONDITION, dtype: int64"
      ]
     },
     "execution_count": 11,
     "metadata": {},
     "output_type": "execute_result"
    }
   ],
   "source": [
    "test[\"CONDITION\"].value_counts(dropna=False)"
   ]
  },
  {
   "cell_type": "markdown",
   "metadata": {},
   "source": [
    "# Remove records, where no service has been provided."
   ]
  },
  {
   "cell_type": "code",
   "execution_count": 12,
   "metadata": {},
   "outputs": [],
   "source": [
    "df_select = pd.read_pickle(\"/Users/Tianwang/ironhack/git/03_project_ironhack_tableau/data/baton_rouge_animal_control_incidents_clean.pkl\")"
   ]
  },
  {
   "cell_type": "code",
   "execution_count": 27,
   "metadata": {},
   "outputs": [
    {
     "data": {
      "text/html": [
       "<div>\n",
       "<style scoped>\n",
       "    .dataframe tbody tr th:only-of-type {\n",
       "        vertical-align: middle;\n",
       "    }\n",
       "\n",
       "    .dataframe tbody tr th {\n",
       "        vertical-align: top;\n",
       "    }\n",
       "\n",
       "    .dataframe thead th {\n",
       "        text-align: right;\n",
       "    }\n",
       "</style>\n",
       "<table border=\"1\" class=\"dataframe\">\n",
       "  <thead>\n",
       "    <tr style=\"text-align: right;\">\n",
       "      <th></th>\n",
       "      <th>file_number</th>\n",
       "      <th>incident_date</th>\n",
       "      <th>complainant_street</th>\n",
       "      <th>location</th>\n",
       "      <th>municipality</th>\n",
       "      <th>zip_code</th>\n",
       "      <th>service_code</th>\n",
       "      <th>species</th>\n",
       "      <th>breed</th>\n",
       "      <th>condition</th>\n",
       "      <th>...</th>\n",
       "      <th>arrival_time_new</th>\n",
       "      <th>available_time_new</th>\n",
       "      <th>incident_time_new</th>\n",
       "      <th>dispatched_time_new</th>\n",
       "      <th>all_time_available</th>\n",
       "      <th>incident_to_dispatch</th>\n",
       "      <th>disp_to_arrival</th>\n",
       "      <th>service_code_summary</th>\n",
       "      <th>species_clean</th>\n",
       "      <th>clean_adress</th>\n",
       "    </tr>\n",
       "  </thead>\n",
       "  <tbody>\n",
       "    <tr>\n",
       "      <th>0</th>\n",
       "      <td>201639027</td>\n",
       "      <td>12/27/2016</td>\n",
       "      <td>SYCAMORE ST</td>\n",
       "      <td>3366 SYCAMORE</td>\n",
       "      <td>BATON ROUGE</td>\n",
       "      <td>70805</td>\n",
       "      <td>LOOSE</td>\n",
       "      <td>DOG</td>\n",
       "      <td>PITBULL</td>\n",
       "      <td>FAIR</td>\n",
       "      <td>...</td>\n",
       "      <td>2016-12-27 16:17:00</td>\n",
       "      <td>2016-12-27 16:38:00</td>\n",
       "      <td>2016-12-27 15:30:00</td>\n",
       "      <td>2016-12-27 16:06:00</td>\n",
       "      <td>Yes</td>\n",
       "      <td>36.0</td>\n",
       "      <td>11.0</td>\n",
       "      <td>LOOSE</td>\n",
       "      <td>DOG</td>\n",
       "      <td>3366 SYCAMORE, BATON ROUGE, 70805</td>\n",
       "    </tr>\n",
       "    <tr>\n",
       "      <th>1</th>\n",
       "      <td>201639044</td>\n",
       "      <td>12/28/2016</td>\n",
       "      <td>WOODLAND RIDGE BL</td>\n",
       "      <td>2582 WOODLAND RIDGE</td>\n",
       "      <td>BATON ROUGE</td>\n",
       "      <td>70816</td>\n",
       "      <td>TRAPPED ANIMAL</td>\n",
       "      <td>WILDLIFE</td>\n",
       "      <td>POSSUM</td>\n",
       "      <td>FAIR</td>\n",
       "      <td>...</td>\n",
       "      <td>2016-12-28 10:15:00</td>\n",
       "      <td>2016-12-28 10:23:00</td>\n",
       "      <td>2016-12-28 10:06:00</td>\n",
       "      <td>2016-12-28 10:07:00</td>\n",
       "      <td>Yes</td>\n",
       "      <td>1.0</td>\n",
       "      <td>8.0</td>\n",
       "      <td>TRAPPED ANIMAL</td>\n",
       "      <td>WILDLIFE</td>\n",
       "      <td>2582 WOODLAND RIDGE, BATON ROUGE, 70816</td>\n",
       "    </tr>\n",
       "    <tr>\n",
       "      <th>2</th>\n",
       "      <td>201639036</td>\n",
       "      <td>12/28/2016</td>\n",
       "      <td>MAIN ST</td>\n",
       "      <td>4463 MAIN</td>\n",
       "      <td>ZACHARY</td>\n",
       "      <td>70791</td>\n",
       "      <td>STRAY AND SECURED</td>\n",
       "      <td>DOG</td>\n",
       "      <td>PITBULL</td>\n",
       "      <td>EMACIATED</td>\n",
       "      <td>...</td>\n",
       "      <td>2016-12-28 09:27:00</td>\n",
       "      <td>2016-12-28 09:45:00</td>\n",
       "      <td>2016-12-28 09:03:00</td>\n",
       "      <td>2016-12-28 09:03:00</td>\n",
       "      <td>Yes</td>\n",
       "      <td>0.0</td>\n",
       "      <td>24.0</td>\n",
       "      <td>STRAY</td>\n",
       "      <td>DOG</td>\n",
       "      <td>4463 MAIN, ZACHARY, 70791</td>\n",
       "    </tr>\n",
       "    <tr>\n",
       "      <th>3</th>\n",
       "      <td>201639042</td>\n",
       "      <td>12/28/2016</td>\n",
       "      <td>ERIE ST</td>\n",
       "      <td>2100 ERIE</td>\n",
       "      <td>BATON ROUGE</td>\n",
       "      <td>70805</td>\n",
       "      <td>ABANDONED ANIMAL</td>\n",
       "      <td>DOG</td>\n",
       "      <td>GERMAN SHEPHERD</td>\n",
       "      <td>EMACIATED</td>\n",
       "      <td>...</td>\n",
       "      <td>2016-12-28 10:35:00</td>\n",
       "      <td>2016-12-28 10:47:00</td>\n",
       "      <td>2016-12-28 09:46:00</td>\n",
       "      <td>2016-12-28 10:24:00</td>\n",
       "      <td>Yes</td>\n",
       "      <td>38.0</td>\n",
       "      <td>11.0</td>\n",
       "      <td>ABANDONED ANIMAL</td>\n",
       "      <td>DOG</td>\n",
       "      <td>2100 ERIE, BATON ROUGE, 70805</td>\n",
       "    </tr>\n",
       "    <tr>\n",
       "      <th>4</th>\n",
       "      <td>201639059</td>\n",
       "      <td>12/28/2016</td>\n",
       "      <td>VAN BUREN ST</td>\n",
       "      <td>299 VAN BUREN</td>\n",
       "      <td>BATON ROUGE</td>\n",
       "      <td>70714</td>\n",
       "      <td>STRAY</td>\n",
       "      <td>DOG</td>\n",
       "      <td>YORKSHIRE TERRIER</td>\n",
       "      <td>EMACIATED</td>\n",
       "      <td>...</td>\n",
       "      <td>2016-12-28 16:07:00</td>\n",
       "      <td>2016-12-28 16:25:00</td>\n",
       "      <td>2016-12-28 15:05:00</td>\n",
       "      <td>2016-12-28 15:45:00</td>\n",
       "      <td>Yes</td>\n",
       "      <td>40.0</td>\n",
       "      <td>22.0</td>\n",
       "      <td>STRAY</td>\n",
       "      <td>DOG</td>\n",
       "      <td>299 VAN BUREN, BATON ROUGE, 70714</td>\n",
       "    </tr>\n",
       "  </tbody>\n",
       "</table>\n",
       "<p>5 rows × 21 columns</p>\n",
       "</div>"
      ],
      "text/plain": [
       "   file_number incident_date complainant_street             location  \\\n",
       "0    201639027    12/27/2016        SYCAMORE ST        3366 SYCAMORE   \n",
       "1    201639044    12/28/2016  WOODLAND RIDGE BL  2582 WOODLAND RIDGE   \n",
       "2    201639036    12/28/2016            MAIN ST            4463 MAIN   \n",
       "3    201639042    12/28/2016            ERIE ST            2100 ERIE   \n",
       "4    201639059    12/28/2016       VAN BUREN ST        299 VAN BUREN   \n",
       "\n",
       "  municipality zip_code       service_code   species              breed  \\\n",
       "0  BATON ROUGE    70805              LOOSE       DOG            PITBULL   \n",
       "1  BATON ROUGE    70816     TRAPPED ANIMAL  WILDLIFE             POSSUM   \n",
       "2      ZACHARY    70791  STRAY AND SECURED       DOG            PITBULL   \n",
       "3  BATON ROUGE    70805   ABANDONED ANIMAL       DOG    GERMAN SHEPHERD   \n",
       "4  BATON ROUGE    70714              STRAY       DOG  YORKSHIRE TERRIER   \n",
       "\n",
       "   condition  ...    arrival_time_new  available_time_new   incident_time_new  \\\n",
       "0       FAIR  ... 2016-12-27 16:17:00 2016-12-27 16:38:00 2016-12-27 15:30:00   \n",
       "1       FAIR  ... 2016-12-28 10:15:00 2016-12-28 10:23:00 2016-12-28 10:06:00   \n",
       "2  EMACIATED  ... 2016-12-28 09:27:00 2016-12-28 09:45:00 2016-12-28 09:03:00   \n",
       "3  EMACIATED  ... 2016-12-28 10:35:00 2016-12-28 10:47:00 2016-12-28 09:46:00   \n",
       "4  EMACIATED  ... 2016-12-28 16:07:00 2016-12-28 16:25:00 2016-12-28 15:05:00   \n",
       "\n",
       "  dispatched_time_new all_time_available incident_to_dispatch  \\\n",
       "0 2016-12-27 16:06:00                Yes                 36.0   \n",
       "1 2016-12-28 10:07:00                Yes                  1.0   \n",
       "2 2016-12-28 09:03:00                Yes                  0.0   \n",
       "3 2016-12-28 10:24:00                Yes                 38.0   \n",
       "4 2016-12-28 15:45:00                Yes                 40.0   \n",
       "\n",
       "   disp_to_arrival  service_code_summary species_clean  \\\n",
       "0             11.0                 LOOSE           DOG   \n",
       "1              8.0        TRAPPED ANIMAL      WILDLIFE   \n",
       "2             24.0                 STRAY           DOG   \n",
       "3             11.0      ABANDONED ANIMAL           DOG   \n",
       "4             22.0                 STRAY           DOG   \n",
       "\n",
       "                              clean_adress  \n",
       "0        3366 SYCAMORE, BATON ROUGE, 70805  \n",
       "1  2582 WOODLAND RIDGE, BATON ROUGE, 70816  \n",
       "2                4463 MAIN, ZACHARY, 70791  \n",
       "3            2100 ERIE, BATON ROUGE, 70805  \n",
       "4        299 VAN BUREN, BATON ROUGE, 70714  \n",
       "\n",
       "[5 rows x 21 columns]"
      ]
     },
     "execution_count": 27,
     "metadata": {},
     "output_type": "execute_result"
    }
   ],
   "source": [
    "df_select.head()"
   ]
  },
  {
   "cell_type": "markdown",
   "metadata": {},
   "source": [
    "## First returning a new dataframe with only rows, where service_code is not NaN"
   ]
  },
  {
   "cell_type": "code",
   "execution_count": 35,
   "metadata": {},
   "outputs": [],
   "source": [
    "new = df_select.loc[df_select[\"service_code\"].notna()]"
   ]
  },
  {
   "cell_type": "code",
   "execution_count": 36,
   "metadata": {},
   "outputs": [
    {
     "data": {
      "text/plain": [
       "52731"
      ]
     },
     "execution_count": 36,
     "metadata": {},
     "output_type": "execute_result"
    }
   ],
   "source": [
    "len(new) "
   ]
  },
  {
   "cell_type": "code",
   "execution_count": 37,
   "metadata": {},
   "outputs": [
    {
     "data": {
      "text/plain": [
       "72924"
      ]
     },
     "execution_count": 37,
     "metadata": {},
     "output_type": "execute_result"
    }
   ],
   "source": [
    "len(df_select) #the old df hat 72924 rows."
   ]
  },
  {
   "cell_type": "code",
   "execution_count": 38,
   "metadata": {},
   "outputs": [
    {
     "data": {
      "text/plain": [
       "52731"
      ]
     },
     "execution_count": 38,
     "metadata": {},
     "output_type": "execute_result"
    }
   ],
   "source": [
    "to_be_dropped = len(df_select) - len(test)\n",
    "to_be_dropped \n",
    "\n",
    "#20193 rows with emtpy Service Code will be dropped."
   ]
  },
  {
   "cell_type": "markdown",
   "metadata": {},
   "source": [
    "## Cross-check how the dropped rows look like. "
   ]
  },
  {
   "cell_type": "code",
   "execution_count": 39,
   "metadata": {},
   "outputs": [],
   "source": [
    "isna = df[df_select[\"service_code\"].isna()]"
   ]
  },
  {
   "cell_type": "code",
   "execution_count": 40,
   "metadata": {},
   "outputs": [
    {
     "data": {
      "text/plain": [
       "2017    9154\n",
       "2016    6544\n",
       "2018    4486\n",
       "2019       9\n",
       "Name: year, dtype: int64"
      ]
     },
     "execution_count": 40,
     "metadata": {},
     "output_type": "execute_result"
    }
   ],
   "source": [
    "isna[\"year\"].value_counts() #Just to confirm that the insa values almost only occured in 2016-2018. "
   ]
  },
  {
   "cell_type": "markdown",
   "metadata": {},
   "source": [
    "## Create a new file with the new dataframe."
   ]
  },
  {
   "cell_type": "code",
   "execution_count": 41,
   "metadata": {},
   "outputs": [],
   "source": [
    "pd.to_pickle (new, \"/Users/Tianwang/ironhack/git/03_project_ironhack_tableau/data/baton_rouge_animal_control_incidents_clean_update.pkl\")"
   ]
  },
  {
   "cell_type": "code",
   "execution_count": 42,
   "metadata": {},
   "outputs": [],
   "source": [
    "new.to_csv(\"/Users/Tianwang/ironhack/git/03_project_ironhack_tableau/data/baton_rouge_animal_control_incidents_clean_update.csv\", sep=\";\", index=False)"
   ]
  },
  {
   "cell_type": "code",
   "execution_count": null,
   "metadata": {},
   "outputs": [],
   "source": []
  }
 ],
 "metadata": {
  "kernelspec": {
   "display_name": "Python 3",
   "language": "python",
   "name": "python3"
  },
  "language_info": {
   "codemirror_mode": {
    "name": "ipython",
    "version": 3
   },
   "file_extension": ".py",
   "mimetype": "text/x-python",
   "name": "python",
   "nbconvert_exporter": "python",
   "pygments_lexer": "ipython3",
   "version": "3.7.7"
  }
 },
 "nbformat": 4,
 "nbformat_minor": 4
}
